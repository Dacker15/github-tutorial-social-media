{
 "cells": [
  {
   "cell_type": "markdown",
   "metadata": {
    "collapsed": false
   },
   "source": [
    "# Tutorial sulle API di GitHub ed npm\n",
    "\n",
    "Nome: Davide  \n",
    "Cognome: Barbagallo  \n",
    "Matricola: 1000016775  \n",
    "Corso: Social Media Management  \n",
    "Docente: Antonino Furnari  \n",
    "Anno accademico: 2022/23  "
   ]
  },
  {
   "cell_type": "markdown",
   "metadata": {},
   "source": [
    "# Introduzione\n",
    "### GitHub\n",
    "GitHub è un servizio di hosting di progetti software che usa come [version control system](https://it.wikipedia.org/wiki/Controllo_versione_distribuito) Git.  \n",
    "Nata come azienda indipendente, nel 2018 è stata acquisita da Microsoft.\n",
    "\n",
    "All'interno, gli utenti possono registrarsi e creare della **repository**, con visibilità pubblica o privata, in cui è possibile caricare il codice sorgente di un applicativo. Le repository sono organizzate in **branch**, di cui una principale, chiamata *main* o *master*, ed altre secondarie, relative all'implementazione di una nuova feature oppure alla risoluzione di un bug. Branch diverse hanno generalmente codice diverso.\n",
    "È anche possibile creare delle **issue**, topic in cui utenti discutono di un determinato problema del codice. Una volta discusso, gli sviluppatori possono aprire una **pull request** collegata alla issue, richiedendo il *merge* del codice relativo alla branch associata alla pull request dentro la branch principale.  \n",
    "Di recente, GitHub ha aggiunto la possibilità di associare a determinate comandi Git delle azioni, chiamate *GitHub Actions*, che agevolano il flusso di lavoro come la compilazione e la distribuzione dell'applicativo legato alla repository.\n",
    "\n",
    "### npm\n",
    "Node Package Manager, abbreviato npm, è il gestore di pacchetti ufficiale dell'ambiente JavaScript Node.js.\n",
    "\n",
    "All'interno, gli utenti possono scaricare i **pacchetti** pubblicati attraverso un tool da linea di comando ed utilizzarli all'interno di progetti JavaScript.  \n",
    "I pacchetti, pubblici e privati, sono conservati all'interno di un **database** online. Ogni pacchetto ha dedicata una pagina all'interno del sito [npmjs.com](https://www.npmjs.com/) in modo che gli utenti interessati possono visualizzarne i dettagli, come il README.md, generalmente contenente lo scopo del pacchetto e la sua guida all'installazione, il numero di download settimanali ed i creatori del pacchetto, chiamati **maintainers**.  \n",
    "Tutti gli sviluppatori JavaScript possono creare e pubblicare un pacchetto all'interno di npm.\n",
    "\n",
    "### Link utili\n",
    "- [Documentazione API su GitHub](https://docs.github.com/en/rest)\n",
    "- [Documentazione API su npm](https://github.com/npm/registry)\n",
    "\n",
    "\n",
    "### Obbiettivo\n",
    "L'obbiettivo del tutorial è studiare se esiste una correlazione fra il numero di commit settimanali su GitHub ed il numero di download settimanali su npm, cioè di verificare dunque se, una libreria mantenuta e curata riceve più download di una libreria meno curata.  \n",
    "Prenderemo in esame una specifica *\"classe\"* di pacchetti, in particolari i framework utilizzati per la generazione di [Single Page Application](https://it.wikipedia.org/wiki/Single-page_application).  \n",
    "In particolare esamineremo i seguenti pacchetti:\n",
    "- React: [GitHub](https://github.com/facebook/react) - [npm](https://www.npmjs.com/package/react)\n",
    "- Angular: [GitHub](https://github.com/angular/angular) - [npm](https://www.npmjs.com/package/@angular/core)\n",
    "- Vue: [GitHub](https://github.com/vuejs/vue) - [npm](https://www.npmjs.com/package/vue)\n",
    "- Svelte: [GitHub](https://github.com/sveltejs/svelte) - [npm](https://www.npmjs.com/package/svelte)\n",
    "- Solid: [GitHub](https://github.com/solidjs/solid) - [npm](https://www.npmjs.com/package/solid-js)\n",
    "- Ember: [GitHub](https://github.com/emberjs/ember.js) - [npm](https://www.npmjs.com/package/ember-source)"
   ]
  },
  {
   "cell_type": "markdown",
   "metadata": {},
   "source": [
    "# Autenticazione\n",
    "\n",
    "### GitHub\n",
    "Come riporta la [documentazione di GitHub](https://docs.github.com/en/rest/guides/getting-started-with-the-rest-api), per l'utilizzo delle API è necessario essere **autenticati**.  \n",
    "La piattaforma ci permette di utilizzare diversi metodi per poter generare un token di autenticazione, a seconda della complessità del sistema software che deve usare le API:\n",
    "- GitHub Apps\n",
    "- OAuth Apps\n",
    "- Personal access tokens\n",
    "\n",
    "Nel nostro caso, la nostra applicazione non ha i requisiti per poter utilizzare le GitHub Apps (servono per creare estensioni di GitHub, come client desktop) oppure le OAuth Apps (esse seguono il paradigma web e quindi non sono utilizzabili nel nostro caso).  \n",
    "L'unica alternativa rimasta sono i **personal access token**.  \n",
    "GitHub utilizza dei token chiamati **fine-grained personal access tokens** che ci permettono di definire, in fase di generazione, le azioni che gli utenti in possesso del token possono svolgere.\n",
    "\n",
    "Per la creazione di un token, accediamo al nostro account GitHub ed andiamo nella sezione **Settings -> Developer Settings**.  \n",
    "Ci ritroveremo in questa schermata:\n",
    "\n",
    "![Developer Settings Screen](images/developer-settings.png)\n",
    "\n",
    "Spostandoci nella sezione **Personal access tokens** ed entrando nella sottosezione **fine-grained personal access tokens**, ci ritroveremo in questa schermata:\n",
    "\n",
    "![Developer Settings Fine Access Token Screen](images/developer-settings-fine-token.png)\n",
    "\n",
    "Cliccando su **Generate new token**, ci ritroveremo in questa schermata:\n",
    "\n",
    "![Fine Access Token Creation Screen](images/developer-settings-fine-token-creation.png)\n",
    "\n",
    "Noteremo i seguenti campi da compilare:\n",
    "- Token name: nome del token. Lo useremo per distinguerlo dagli altri.\n",
    "- Expiration: scadenza del token. Superata questa data, il token non permetterà di fare nessuna richiesta.\n",
    "- Description (opzionale): descrizione dello scopo del token.\n",
    "- Resource owner: il proprietario del token. Corrisponde all'account che stiamo usando per generare il token. Nel caso in cui l'utente faccia parte di organizzazioni, esse potranno comparire fra le opzioni.\n",
    "- Repository access: repository pubbliche e private a cui il token ci permette di accedere. Nel nostro caso, analizzeremo solo repo pubbliche, quindi lo impostiamo a *Public Repositories (read-only)*.\n",
    "- Permissions: azioni permesse che gli utenti in possesso del token possono svolgere, come le interazioni con altri utenti. Di default, tutte le azioni sono impostate su *No access*. Nel nostro caso, non abbiamo bisogno di svolgere particolari azioni e possiamo quindi lasciare tutto com'è.\n",
    "\n",
    "Compilato, il nostro form avrà questa struttura:\n",
    "\n",
    "![Fine Access Token Creation Filled Screen](images/developer-settings-fine-token-creation-filled.png)\n",
    "\n",
    "Cliccando su **Generate Token**, ci ritroveremo in questa schermata:\n",
    "\n",
    "![Fine Access Token Creation Filled Screen](images/developer-settings-fine-token-generated-hidden.png)\n",
    "\n",
    "Da notare che GitHub ci segnala che avremo accesso al token **solo una volta**. Una volta cambiata pagina, non sarà più possibile accedervi e dovremo generarne uno nuovo.  \n",
    "Una volta inserito all'interno del sistema software, dovremmo allegarlo come **Header** della richiesta nella voce **Authorization**, in questo modo:\n",
    "```\n",
    "Authorization: Bearer <GITHUB-TOKEN>\n",
    "```\n",
    "\n",
    "### npm\n",
    "A differenza di GitHub, le API di npm sono ad accesso libero e non necessitano alcun tipo di autenticazione."
   ]
  },
  {
   "cell_type": "markdown",
   "metadata": {},
   "source": [
    "# Estrazione dei dati\n",
    "### GitHub\n",
    "\n",
    "### npm\n",
    "Estraiamo quindi i dati da npm:"
   ]
  },
  {
   "cell_type": "code",
   "execution_count": 32,
   "metadata": {
    "collapsed": false
   },
   "outputs": [],
   "source": [
    "from datetime import date\n",
    "\n",
    "import requests\n",
    "from dateutil.relativedelta import relativedelta\n",
    "\n",
    "npm_packages_names = ['react', '@angular/core', 'vue', 'svelte', 'solid-js', 'ember-source']\n",
    "npm_packages_stats = dict()\n",
    "\n",
    "def get_npm_stats(package_name: str):\n",
    "    now = date.today()\n",
    "    past_years = now - relativedelta(years=1)\n",
    "    url_request = 'https://api.npmjs.org/downloads/range/{}:{}/{}'.format(past_years, now, package_name)\n",
    "    response = requests.get(url_request)\n",
    "    data = response.json()\n",
    "    return data\n",
    "\n",
    "for package_name in npm_packages_names:\n",
    "    response = get_npm_stats(package_name)\n",
    "    npm_packages_stats[package_name] = dict()\n",
    "    npm_packages_stats[package_name]['daily'] = list(map(lambda element : element['downloads'], response['downloads']))"
   ]
  },
  {
   "cell_type": "markdown",
   "metadata": {},
   "source": [
    "I dati raccolti sono organizzati in un range giornaliero e non settimanale come quello di GitHub.  \n",
    "Occorre dunque unire i risultati in modo da ottenere un aggregazione per settimana."
   ]
  },
  {
   "cell_type": "code",
   "execution_count": null,
   "metadata": {},
   "outputs": [],
   "source": [
    "import functools\n",
    "import math\n",
    "\n",
    "\n",
    "def merge_npm_days(package_name: str):\n",
    "    downloads_list = npm_packages_stats[package_name]['daily']\n",
    "    weeks_count = math.ceil(len(downloads_list) / 7)\n",
    "    weeks_total = [0] * weeks_count\n",
    "    i = weeks_count - 1\n",
    "    while i >= 0:\n",
    "        week_elements = downloads_list[-7:]\n",
    "        downloads_list = downloads_list[:len(downloads_list) - 7]\n",
    "        week_total = functools.reduce(lambda acc, curr : acc + curr, week_elements, 0)\n",
    "        weeks_total[i] = week_total\n",
    "        i -= 1\n",
    "    return weeks_total\n",
    "        \n",
    "for package_name in npm_packages_names:\n",
    "    weekly_download = merge_npm_days(package_name)\n",
    "    npm_packages_stats[package_name]['weekly'] = weekly_download"
   ]
  }
 ],
 "metadata": {
  "kernelspec": {
   "display_name": "Python 3.9.6 ('github-tutorial-Xa53fHXu')",
   "language": "python",
   "name": "python3"
  },
  "language_info": {
   "codemirror_mode": {
    "name": "ipython",
    "version": 3
   },
   "file_extension": ".py",
   "mimetype": "text/x-python",
   "name": "python",
   "nbconvert_exporter": "python",
   "pygments_lexer": "ipython3",
   "version": "3.9.6"
  },
  "vscode": {
   "interpreter": {
    "hash": "81a58e6493cbddd787f00c16d5d711dbef8fdf795d21d2eb7ad5ebd148d97d63"
   }
  }
 },
 "nbformat": 4,
 "nbformat_minor": 0
}
