{
 "cells": [
  {
   "cell_type": "markdown",
   "metadata": {
    "collapsed": false
   },
   "source": [
    "# Tutorial sulle API di GitHub ed npm\n",
    "\n",
    "Nome: Davide  \n",
    "Cognome: Barbagallo  \n",
    "Matricola: 1000016775  \n",
    "Corso: Social Media Management  \n",
    "Docente: Antonino Furnari  \n",
    "Anno accademico: 2022/23  "
   ]
  },
  {
   "cell_type": "markdown",
   "metadata": {},
   "source": [
    "# Introduzione\n",
    "### GitHub\n",
    "GitHub è un servizio di hosting di progetti software che usa come [version control system](https://it.wikipedia.org/wiki/Controllo_versione_distribuito) Git.  \n",
    "Nata come azienda indipendente, nel 2018 è stata acquisita da Microsoft.\n",
    "\n",
    "All'interno, gli utenti possono registrarsi e creare della **repository**, con visibilità pubblica o privata, in cui è possibile caricare il codice sorgente di un applicativo. Le repository sono organizzate in **branch**, di cui una principale, chiamata *main* o *master*, ed altre secondarie, relative all'implementazione di una nuova feature oppure alla risoluzione di un bug. Branch diverse hanno generalmente codice diverso.\n",
    "È anche possibile creare delle **issue**, topic in cui utenti discutono di un determinato problema del codice. Una volta discusso, gli sviluppatori possono aprire una **pull request** collegata alla issue, richiedendo il *merge* del codice relativo alla branch associata alla pull request dentro la branch principale.  \n",
    "Di recente, GitHub ha aggiunto la possibilità di associare a determinate comandi Git delle azioni, chiamate *GitHub Actions*, che agevolano il flusso di lavoro come la compilazione e la distribuzione dell'applicativo legato alla repository.\n",
    "\n",
    "### npm\n",
    "Node Package Manager, abbreviato npm, è il gestore di pacchetti ufficiale dell'ambiente JavaScript Node.js.\n",
    "\n",
    "All'interno, gli utenti possono scaricare i **pacchetti** pubblicati attraverso un tool da linea di comando ed utilizzarli all'interno di progetti JavaScript.  \n",
    "I pacchetti, pubblici e privati, sono conservati all'interno di un **database** online. Ogni pacchetto ha dedicata una pagina all'interno del sito [npmjs.com](https://www.npmjs.com/) in modo che gli utenti interessati possono visualizzarne i dettagli, come il README.md, generalmente contenente lo scopo del pacchetto e la sua guida all'installazione, il numero di download settimanali ed i creatori del pacchetto, chiamati **maintainers**.  \n",
    "Tutti gli sviluppatori JavaScript possono creare e pubblicare un pacchetto all'interno di npm.\n",
    "\n",
    "### Link utili\n",
    "- [Documentazione API su GitHub](https://docs.github.com/en/rest)\n",
    "- [Documentazione API su npm](https://github.com/npm/registry/blob/master/docs/REGISTRY-API.md)\n",
    "\n",
    "### Obbiettivo\n",
    "L'obbiettivo del tutorial è studiare se esiste una correlazione fra il numero di commit settimanali su GitHub ed il numero di download settimanali su npm, cioè di verificare dunque se, una libreria mantenuta e curata riceve più download di una libreria meno curata.  \n",
    "Prenderemo in esame una specifica *\"classe\"* di pacchetti, in particolari i framework utilizzati per la generazione di [Single Page Application](https://it.wikipedia.org/wiki/Single-page_application).  \n",
    "In particolare esamineremo i seguenti pacchetti:\n",
    "- React: [GitHub](https://github.com/facebook/react) - [npm](https://www.npmjs.com/package/react)\n",
    "- Angular: [GitHub](https://github.com/angular/angular) - [npm](https://www.npmjs.com/package/@angular/core)\n",
    "- Vue: [GitHub](https://github.com/vuejs/vue) - [npm](https://www.npmjs.com/package/vue)\n",
    "- Svelte: [GitHub](https://github.com/sveltejs/svelte) - [npm](https://www.npmjs.com/package/svelte)\n",
    "- Solid: [GitHub](https://github.com/solidjs/solid) - [npm](https://www.npmjs.com/package/solid-js)\n",
    "- Ember: [GitHub](https://github.com/emberjs/ember.js) - [npm](https://www.npmjs.com/package/ember-source)"
   ]
  },
  {
   "cell_type": "code",
   "execution_count": null,
   "metadata": {
    "collapsed": false
   },
   "outputs": [],
   "source": []
  }
 ],
 "metadata": {
  "kernelspec": {
   "display_name": "Python 3.9.6 ('github-tutorial-Xa53fHXu')",
   "language": "python",
   "name": "python3"
  },
  "language_info": {
   "codemirror_mode": {
    "name": "ipython",
    "version": 2
   },
   "file_extension": ".py",
   "mimetype": "text/x-python",
   "name": "python",
   "nbconvert_exporter": "python",
   "pygments_lexer": "ipython2",
   "version": "3.9.6"
  },
  "vscode": {
   "interpreter": {
    "hash": "81a58e6493cbddd787f00c16d5d711dbef8fdf795d21d2eb7ad5ebd148d97d63"
   }
  }
 },
 "nbformat": 4,
 "nbformat_minor": 0
}
